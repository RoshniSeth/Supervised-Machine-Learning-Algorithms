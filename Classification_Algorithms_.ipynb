{
  "nbformat": 4,
  "nbformat_minor": 0,
  "metadata": {
    "colab": {
      "provenance": [],
      "authorship_tag": "ABX9TyMzzp3hGcHRn8iZdfPFvBW4",
      "include_colab_link": true
    },
    "kernelspec": {
      "name": "python3",
      "display_name": "Python 3"
    },
    "language_info": {
      "name": "python"
    }
  },
  "cells": [
    {
      "cell_type": "markdown",
      "metadata": {
        "id": "view-in-github",
        "colab_type": "text"
      },
      "source": [
        "<a href=\"https://colab.research.google.com/github/RoshniSeth/Supervised-Machine-Learning-Algorithms/blob/main/Classification_Algorithms_.ipynb\" target=\"_parent\"><img src=\"https://colab.research.google.com/assets/colab-badge.svg\" alt=\"Open In Colab\"/></a>"
      ]
    },
    {
      "cell_type": "markdown",
      "source": [
        "#**Classification Algorithms**\n",
        "\n",
        "The Classification algorithm is a Supervised Learning technique that is used to identify the category of new observations on the basis of training data. In Classification, a program learns from the given dataset or observations and then classifies new observation into a number of classes or groups. Such as, Yes or No, 0 or 1, Spam or Not Spam, cat or dog, etc. Classes can be called as targets/labels or categories.\n",
        "\n",
        "The algorithm which implements the classification on a dataset is known as a classifier.\n",
        "\n",
        "There are two types of Classifications:\n",
        "\n",
        "* **Binary Classifier:** If the classification problem has only two\n",
        "  possible outcomes, then it is called as Binary Classifier.\n",
        "  Examples: YES or NO, MALE or FEMALE, SPAM or NOT SPAM, CAT or DOG, etc.\n",
        "***Multi-class Classifier**: If a classification problem has more    than two outcomes, then it is called as Multi-class Classifier.\n",
        "Example: Classifications of types of crops, Classification of types of music.\n",
        "\n",
        "<center>\n",
        "\n",
        "![classification-algorithm-in-machine-learning.png](data:image/png;base64,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)\n",
        "\n",
        "</center>"
      ],
      "metadata": {
        "id": "9MXXe1doL0v7"
      }
    },
    {
      "cell_type": "markdown",
      "source": [
        "##**Support Vector Machine (SVM)**\n",
        "\n",
        "Support Vector Machine or SVM is one of the most popular Supervised Learning algorithms, which is used for Classification as well as Regression problems. However, primarily, it is used for Classification problems in Machine Learning.\n",
        "\n",
        "The goal of the SVM algorithm is to create the best line or decision boundary that can segregate n-dimensional space into classes so that we can easily put the new data point in the correct category in the future. This best decision boundary is called a hyperplane.\n",
        "\n"
      ],
      "metadata": {
        "id": "98VVv1vwS9s5"
      }
    },
    {
      "cell_type": "markdown",
      "source": [
        "This case study includes the dataset which contains the information of various users. There is a car making company that has recently launched a new SUV car. So the company wanted to check how many users from the dataset, wants to purchase the car.\n",
        "\n",
        "For this problem, we will build a Machine Learning model using the Support Vector Machine algorithm.  In this problem, we will predict the purchased variable (Dependent Variable) by using age and salary (Independent variables).\n",
        "\n",
        "<center>\n",
        "\n",
        "![support-vector-machine-algorithm.png](data:image/png;base64,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)\n",
        "</center>"
      ],
      "metadata": {
        "id": "RYYGqiOeUAZj"
      }
    },
    {
      "cell_type": "markdown",
      "source": [
        "To implement the Support Vector Machine algorithm, the steps are as follows:\n",
        "1.  Loading the dataset\n",
        "2.  Data Pre-processing step\n",
        "3.  Splitting the dataset into train and test dataset\n",
        "4.  Fitting SVM to the training set\n",
        "5.  Predicting the test result\n",
        "6.  Test accuracy of the result(Creation of Confusion Matrix)\n",
        "\n"
      ],
      "metadata": {
        "id": "PwahaDIWU_ek"
      }
    },
    {
      "cell_type": "code",
      "source": [
        "# importing necessary libraries\n",
        "\n",
        "import pandas as pd\n",
        "import numpy as np\n",
        "import matplotlib.pyplot as plt"
      ],
      "metadata": {
        "id": "Ihw01VnxWPxf"
      },
      "execution_count": null,
      "outputs": []
    },
    {
      "cell_type": "code",
      "source": [
        "# Connecting the drive to colab\n",
        "\n",
        "from google.colab import drive\n",
        "drive.mount('/content/drive')"
      ],
      "metadata": {
        "colab": {
          "base_uri": "https://localhost:8080/"
        },
        "id": "iRfVGUsbW9jN",
        "outputId": "e802c4b3-ce5d-446d-bfe7-d66a26af72d8"
      },
      "execution_count": null,
      "outputs": [
        {
          "output_type": "stream",
          "name": "stdout",
          "text": [
            "Mounted at /content/drive\n"
          ]
        }
      ]
    },
    {
      "cell_type": "markdown",
      "source": [
        "####**Loading the dataset**\n"
      ],
      "metadata": {
        "id": "5Y3pt6PeeiDn"
      }
    },
    {
      "cell_type": "code",
      "source": [
        "user_data=pd.read_excel('/content/drive/MyDrive/datasets/car_purchase.xlsx')\n",
        "print(user_data.head())"
      ],
      "metadata": {
        "colab": {
          "base_uri": "https://localhost:8080/"
        },
        "id": "SPka_363aEqu",
        "outputId": "55823848-31a4-441d-d45c-b2785d3c1955"
      },
      "execution_count": null,
      "outputs": [
        {
          "output_type": "stream",
          "name": "stdout",
          "text": [
            "    User_Id  Gender  Age  Estimated_Salary  Purchased\n",
            "0  15624510    male   19             19000          0\n",
            "1  15810944    male   35             20000          0\n",
            "2  15668575  female   26             43000          0\n",
            "3  15603246  female   27             57000          0\n",
            "4  15804002    male   19             76000          0\n"
          ]
        }
      ]
    },
    {
      "cell_type": "markdown",
      "source": [
        "####**About the dataset**\n",
        "\n",
        "The Data description is as follows:\n",
        "\n",
        "user_id: It depicts the unique id provided by the company to the user.\n",
        "\n",
        "gender: It depicts the gender of the user.\n",
        "\n",
        "age: It depicts the age of the user.\n",
        "\n",
        "estimated_salary: It depicts the salary of the user estimate by the company.\n",
        "\n",
        "purchased: The purchase of new SUV car (0 = purchasing the car, 1 = not purchasing the car )\n",
        "\n",
        "\n",
        "\n",
        "\n"
      ],
      "metadata": {
        "id": "er3rN0Vpg1PS"
      }
    },
    {
      "cell_type": "markdown",
      "source": [
        "####**Pre-processing the dataset**"
      ],
      "metadata": {
        "id": "ZW9tA7EreDZz"
      }
    },
    {
      "cell_type": "code",
      "source": [
        "print(\"Number of rows and columns in dataset= \",user_data.shape)\n",
        "print()\n",
        "print(\"Information about dataset: \")\n",
        "print()\n",
        "print(user_data.info())\n",
        "print()\n",
        "print(\"Null values in the dataset: \")\n",
        "print()\n",
        "print(user_data.isnull().sum())"
      ],
      "metadata": {
        "colab": {
          "base_uri": "https://localhost:8080/"
        },
        "id": "6jzbHmmGea8h",
        "outputId": "4248916f-b9af-42e5-9ded-e713fdde18fc"
      },
      "execution_count": null,
      "outputs": [
        {
          "output_type": "stream",
          "name": "stdout",
          "text": [
            "Number of rows and columns in dataset=  (22, 5)\n",
            "\n",
            "Information about dataset: \n",
            "\n",
            "<class 'pandas.core.frame.DataFrame'>\n",
            "RangeIndex: 22 entries, 0 to 21\n",
            "Data columns (total 5 columns):\n",
            " #   Column            Non-Null Count  Dtype \n",
            "---  ------            --------------  ----- \n",
            " 0   User_Id           22 non-null     int64 \n",
            " 1   Gender            22 non-null     object\n",
            " 2   Age               22 non-null     int64 \n",
            " 3   Estimated_Salary  22 non-null     int64 \n",
            " 4   Purchased         22 non-null     int64 \n",
            "dtypes: int64(4), object(1)\n",
            "memory usage: 1008.0+ bytes\n",
            "None\n",
            "\n",
            "Null values in the dataset: \n",
            "\n",
            "User_Id             0\n",
            "Gender              0\n",
            "Age                 0\n",
            "Estimated_Salary    0\n",
            "Purchased           0\n",
            "dtype: int64\n"
          ]
        }
      ]
    },
    {
      "cell_type": "markdown",
      "source": [
        "**Analysis**-> From the above code, we found that the dataset does not contain any null values and the column names and there datatypes are correct.There are 22 rows and 5 columns in the dataset."
      ],
      "metadata": {
        "id": "QcL63vmzhbA1"
      }
    },
    {
      "cell_type": "markdown",
      "source": [
        "####**Splitting the dataset into train and test set**"
      ],
      "metadata": {
        "id": "8GfEz0EviiXr"
      }
    },
    {
      "cell_type": "code",
      "source": [
        "from sklearn.model_selection import train_test_split\n",
        "train_data,test_data=train_test_split(user_data,test_size=0.25,random_state=0)\n",
        "print(train_data.head())\n",
        "print(test_data.head())"
      ],
      "metadata": {
        "colab": {
          "base_uri": "https://localhost:8080/"
        },
        "id": "ukUypCcyiLEj",
        "outputId": "d4ed8b7e-c0fe-489e-abae-d3ae972da774"
      },
      "execution_count": null,
      "outputs": [
        {
          "output_type": "stream",
          "name": "stdout",
          "text": [
            "     User_Id  Gender  Age  Estimated_Salary  Purchased\n",
            "11  15606274  female   26             52000          0\n",
            "19  15621083  female   48             29000          1\n",
            "8   15600575    male   25             33000          0\n",
            "6   15598044  female   27             84000          0\n",
            "16  15733883    male   47             25000          1\n",
            "     User_Id  Gender  Age  Estimated_Salary  Purchased\n",
            "20  15649487    male   45             22000          1\n",
            "10  15570769  female   26             80000          0\n",
            "14  15628972    male   18             82000          0\n",
            "13  15704987    male   32             18000          0\n",
            "1   15810944    male   35             20000          0\n"
          ]
        }
      ]
    },
    {
      "cell_type": "code",
      "source": [
        "# Splitting the train and test set into target and feature values\n",
        "\n",
        "x_train=train_data.iloc[:,2:4]\n",
        "#print(x_train.head())\n",
        "y_train=train_data.iloc[:,4]\n",
        "#print(y_train.head())\n",
        "\n",
        "x_test=test_data.iloc[:,2:4]\n",
        "#print(x_test.head())\n",
        "y_test=test_data.iloc[:,4]"
      ],
      "metadata": {
        "id": "a1r4ZhGT0XHk"
      },
      "execution_count": null,
      "outputs": []
    },
    {
      "cell_type": "markdown",
      "source": [
        "**Analysis**-> The dataset contains 5 columns in which the age and estimated_salary will be consider as the independent variables and the purchased will be consider as the dependent variable.\n",
        "\n",
        "In the above code, we have taken [:,2:4] for x_train and x_test because our independent variables are age and estimated_salary which are at index 2 and 3. And we have taken [:,4] for y_train and y_test variable because our dependent variable is at index 4."
      ],
      "metadata": {
        "id": "2FlcCGKolND_"
      }
    },
    {
      "cell_type": "markdown",
      "source": [
        "####**Feature Scaling**"
      ],
      "metadata": {
        "id": "g6Fp-aeCmrlJ"
      }
    },
    {
      "cell_type": "code",
      "source": [
        "from sklearn.preprocessing import StandardScaler\n",
        "st_x=StandardScaler()\n",
        "x_trains=st_x.fit_transform(x_train)\n",
        "x_tests=st_x.fit_transform(x_test)\n",
        "# print(x_trains)\n",
        "#print(x_tests)"
      ],
      "metadata": {
        "id": "-LjF3-Zf4Lz9"
      },
      "execution_count": null,
      "outputs": []
    },
    {
      "cell_type": "markdown",
      "source": [
        "**Analysis**-> In SVM, we have done feature scaling because we want accurate result of predictions. Here we have only scale the independent variable because dependent variable have only 0 and 1 values.Our dataset is well pre-processed after feature scaling."
      ],
      "metadata": {
        "id": "1cBm1LLZmjvT"
      }
    },
    {
      "cell_type": "markdown",
      "source": [
        "####**Fitting SVM to the training set**"
      ],
      "metadata": {
        "id": "JFvvMHsE6A-O"
      }
    },
    {
      "cell_type": "code",
      "source": [
        "from sklearn.svm import SVC                            # support vector classifier\n",
        "classifier=SVC(kernel='linear',random_state=0)\n",
        "classifier.fit(x_trains,y_train)\n",
        "score=classifier.score(x_trains,y_train)\n",
        "print('Score= ',score)"
      ],
      "metadata": {
        "colab": {
          "base_uri": "https://localhost:8080/"
        },
        "id": "84eJ6Toc6HKq",
        "outputId": "d862ee0c-1a75-4256-ebb2-a257e1e5da3f"
      },
      "execution_count": null,
      "outputs": [
        {
          "output_type": "stream",
          "name": "stdout",
          "text": [
            "Score=  1.0\n"
          ]
        }
      ]
    },
    {
      "cell_type": "markdown",
      "source": [
        "**Analysis**-> After well preparing our dataset, we have trained the dataset using the training set. For providing training or fitting the model to the training set, we have imported the SVM class of the sklearn library.\n",
        "\n",
        "After importing the class, we have created a classifier object and use it to fit the model to the SVC Classifier. After that we have checked the score and the score is 1.0 which shows that the model is performing well."
      ],
      "metadata": {
        "id": "AX08g8E1d1dv"
      }
    },
    {
      "cell_type": "markdown",
      "source": [
        "####**Predicting the test result**"
      ],
      "metadata": {
        "id": "wfGdBXlL8KiM"
      }
    },
    {
      "cell_type": "code",
      "source": [
        "y_predict=classifier.predict(x_tests)\n",
        "print(y_predict)"
      ],
      "metadata": {
        "colab": {
          "base_uri": "https://localhost:8080/"
        },
        "id": "lIK-WpgZ8gJp",
        "outputId": "8400c798-64d6-4f57-c7b5-269fd234442e"
      },
      "execution_count": null,
      "outputs": [
        {
          "output_type": "stream",
          "name": "stdout",
          "text": [
            "[1 0 0 0 0 1]\n"
          ]
        }
      ]
    },
    {
      "cell_type": "markdown",
      "source": [
        "**Analysis**-> The above code shows the values predicted by the model by only giving the test values."
      ],
      "metadata": {
        "id": "mdTQIsvKfBst"
      }
    },
    {
      "cell_type": "markdown",
      "source": [
        "####**Test accuracy of the result(Creation of Confusion Matrix)**"
      ],
      "metadata": {
        "id": "hb3xQP9TPbby"
      }
    },
    {
      "cell_type": "code",
      "source": [
        "from sklearn.metrics import confusion_matrix,classification_report\n",
        "print(confusion_matrix(y_test,y_predict))\n",
        "print(classification_report(y_test,y_predict))"
      ],
      "metadata": {
        "colab": {
          "base_uri": "https://localhost:8080/"
        },
        "id": "GL1ek_4W9Ton",
        "outputId": "e6ed6cf7-dce6-42d9-873a-550e48df7f63"
      },
      "execution_count": null,
      "outputs": [
        {
          "output_type": "stream",
          "name": "stdout",
          "text": [
            "[[4 0]\n",
            " [0 2]]\n",
            "              precision    recall  f1-score   support\n",
            "\n",
            "           0       1.00      1.00      1.00         4\n",
            "           1       1.00      1.00      1.00         2\n",
            "\n",
            "    accuracy                           1.00         6\n",
            "   macro avg       1.00      1.00      1.00         6\n",
            "weighted avg       1.00      1.00      1.00         6\n",
            "\n"
          ]
        }
      ]
    },
    {
      "cell_type": "markdown",
      "source": [
        "**Analysis**-> In the above cell, the accuracy of the predicted result is calculated by interpreting the confusion matrix. By above output, we can interpret that 4+2=6 (Correct Output) and 0+0= 0(Incorrect Output).\n",
        "\n",
        "The classification report shows that the model is predicting 0 more as compared to 1."
      ],
      "metadata": {
        "id": "08l25B0mfHVt"
      }
    },
    {
      "cell_type": "markdown",
      "source": [
        "\n",
        "\n",
        "---\n",
        "\n",
        "\n",
        "\n",
        "---\n",
        "\n",
        "\n",
        "\n",
        "---\n",
        "\n"
      ],
      "metadata": {
        "id": "NtteEHVvj3Tk"
      }
    },
    {
      "cell_type": "markdown",
      "source": [
        "##**K-Nearest Neighbor(KNN) Algorithm**"
      ],
      "metadata": {
        "id": "WfnDq_J8-fcm"
      }
    },
    {
      "cell_type": "markdown",
      "source": [
        "K-Nearest Neighbour is one of the simplest Machine Learning algorithms based on Supervised Learning technique. It assumes the similarity between the new case/data and available cases and put the new case into the category that is most similar to the available categories.It stores all the available data and classifies a new data point based on the similarity. This means when new data appears then it can be easily classified into a well suite category by using K- NN algorithm.It can be used for Regression as well as for Classification but mostly it is used for the Classification problems.It is a non-parametric algorithm, which means it does not make any assumption on underlying data.It is also called a lazy learner algorithm because it does not learn from the training set immediately instead it stores the dataset and at the time of classification, it performs an action on the dataset and at the training phase just stores the dataset and when it gets new data, then it classifies that data into a category that is much similar to the new data.\n",
        "\n",
        "\n",
        "<center>\n",
        "\n",
        "![k-nearest-neighbor-algorithm-for-machine-learning2.png](data:image/png;base64,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)\n",
        "</center>\n",
        "\n",
        "\n",
        "\n",
        "To implement the KNN algorithm, the steps are as follows:\n",
        "\n",
        "1. Loading the dataset\n",
        "2. Data Pre-processing step\n",
        "3. Splitting the dataset into train and test dataset\n",
        "4. Fitting SVM to the training set\n",
        "5. Predicting the test result\n",
        "6. Test accuracy of the result(Creation of Confusion Matrix)"
      ],
      "metadata": {
        "id": "eoYhWkaACA4N"
      }
    },
    {
      "cell_type": "markdown",
      "source": [
        "####**Loading the dataset**"
      ],
      "metadata": {
        "id": "0qIb86KLDEH3"
      }
    },
    {
      "cell_type": "code",
      "source": [
        "patient_data=pd.read_csv('/content/drive/MyDrive/datasets/Breast_cancer_data.csv')\n",
        "print(patient_data.head())"
      ],
      "metadata": {
        "id": "kjCgyE52wrVC",
        "colab": {
          "base_uri": "https://localhost:8080/"
        },
        "outputId": "4166fc4d-62e3-4556-f8da-3848d4a9fe7a"
      },
      "execution_count": null,
      "outputs": [
        {
          "output_type": "stream",
          "name": "stdout",
          "text": [
            "   mean_radius  mean_texture  mean_perimeter  mean_area  mean_smoothness  \\\n",
            "0        17.99         10.38          122.80     1001.0          0.11840   \n",
            "1        20.57         17.77          132.90     1326.0          0.08474   \n",
            "2        19.69         21.25          130.00     1203.0          0.10960   \n",
            "3        11.42         20.38           77.58      386.1          0.14250   \n",
            "4        20.29         14.34          135.10     1297.0          0.10030   \n",
            "\n",
            "   diagnosis  \n",
            "0          0  \n",
            "1          0  \n",
            "2          0  \n",
            "3          0  \n",
            "4          0  \n"
          ]
        }
      ]
    },
    {
      "cell_type": "markdown",
      "source": [
        "####**About the dataset**\n",
        "\n",
        "The Data description is as follows:\n",
        "\n",
        "diagnosis: The diagnosis of breast tissues (1 = malignant, 0 = benign) where malignant denotes that the disease is harmful\n",
        "\n",
        "mean_radius: mean of distances from center to points on the perimeter\n",
        "\n",
        "mean_texture: standard deviation of gray-scale values\n",
        "\n",
        "mean_perimeter: mean size of the core tumor\n",
        "\n",
        "mean_area: mean area of the core tumor\n"
      ],
      "metadata": {
        "id": "LWkpOTXUFhMU"
      }
    },
    {
      "cell_type": "markdown",
      "source": [
        "####**Pre-processing the dataset**"
      ],
      "metadata": {
        "id": "iDdoNMcnGOw7"
      }
    },
    {
      "cell_type": "code",
      "source": [
        "print(\"Number of rows and columns in dataset= \",patient_data.shape)\n",
        "print()\n",
        "print(\"Information about dataset: \")\n",
        "print()\n",
        "print(patient_data.info())\n",
        "print()\n",
        "print(\"Null values in the dataset: \")\n",
        "print()\n",
        "print(patient_data.isnull().sum())"
      ],
      "metadata": {
        "colab": {
          "base_uri": "https://localhost:8080/"
        },
        "id": "UBlc7qPhDpZK",
        "outputId": "08cd861b-fe36-452a-e149-f7450107825d"
      },
      "execution_count": null,
      "outputs": [
        {
          "output_type": "stream",
          "name": "stdout",
          "text": [
            "Number of rows and columns in dataset=  (569, 6)\n",
            "\n",
            "Information about dataset: \n",
            "\n",
            "<class 'pandas.core.frame.DataFrame'>\n",
            "RangeIndex: 569 entries, 0 to 568\n",
            "Data columns (total 6 columns):\n",
            " #   Column           Non-Null Count  Dtype  \n",
            "---  ------           --------------  -----  \n",
            " 0   mean_radius      569 non-null    float64\n",
            " 1   mean_texture     569 non-null    float64\n",
            " 2   mean_perimeter   569 non-null    float64\n",
            " 3   mean_area        569 non-null    float64\n",
            " 4   mean_smoothness  569 non-null    float64\n",
            " 5   diagnosis        569 non-null    int64  \n",
            "dtypes: float64(5), int64(1)\n",
            "memory usage: 26.8 KB\n",
            "None\n",
            "\n",
            "Null values in the dataset: \n",
            "\n",
            "mean_radius        0\n",
            "mean_texture       0\n",
            "mean_perimeter     0\n",
            "mean_area          0\n",
            "mean_smoothness    0\n",
            "diagnosis          0\n",
            "dtype: int64\n"
          ]
        }
      ]
    },
    {
      "cell_type": "markdown",
      "source": [
        "**Analysis**-> From the above code, we found that the dataset does not contain any null values and the column names and there datatypes are correct.There are 569 rows and 6 columns in the dataset."
      ],
      "metadata": {
        "id": "h47AKR6YGjej"
      }
    },
    {
      "cell_type": "markdown",
      "source": [
        "####**Splitting the dataset into train and test set**"
      ],
      "metadata": {
        "id": "mOFjtuYSG23U"
      }
    },
    {
      "cell_type": "code",
      "source": [
        "#print(patient_data.head())\n",
        "\n",
        "# Splitting dependent and independent values\n",
        "x=patient_data.iloc[:,:5]\n",
        "#print(x.head())\n",
        "y=patient_data.iloc[:,5]\n",
        "#print(y.head())\n",
        "\n",
        "# Splitting into training and test set\n",
        "\n",
        "from sklearn.model_selection import train_test_split\n",
        "x_train,x_test,y_train,y_test=train_test_split(x,y,test_size=0.25,random_state=0)\n",
        "print(x_train.head())\n",
        "print(x_test.head())\n",
        "print(y_train.head())\n",
        "print(y_test.head())\n"
      ],
      "metadata": {
        "colab": {
          "base_uri": "https://localhost:8080/"
        },
        "id": "vn61tbaYG5RD",
        "outputId": "7bf526ab-f4da-43fe-9fe2-a50c1f8fb66c"
      },
      "execution_count": null,
      "outputs": [
        {
          "output_type": "stream",
          "name": "stdout",
          "text": [
            "     mean_radius  mean_texture  mean_perimeter  mean_area  mean_smoothness\n",
            "293        11.85         17.46           75.54      432.7          0.08372\n",
            "332        11.22         19.86           71.94      387.3          0.10540\n",
            "565        20.13         28.25          131.20     1261.0          0.09780\n",
            "278        13.59         17.84           86.24      572.3          0.07948\n",
            "489        16.69         20.20          107.10      857.6          0.07497\n",
            "     mean_radius  mean_texture  mean_perimeter  mean_area  mean_smoothness\n",
            "512        13.40         20.52           88.64      556.7          0.11060\n",
            "457        13.21         25.25           84.10      537.9          0.08791\n",
            "439        14.02         15.66           89.59      606.5          0.07966\n",
            "298        14.26         18.17           91.22      633.1          0.06576\n",
            "37         13.03         18.42           82.61      523.8          0.08983\n",
            "293    1\n",
            "332    1\n",
            "565    0\n",
            "278    1\n",
            "489    0\n",
            "Name: diagnosis, dtype: int64\n",
            "512    0\n",
            "457    1\n",
            "439    1\n",
            "298    1\n",
            "37     1\n",
            "Name: diagnosis, dtype: int64\n"
          ]
        }
      ]
    },
    {
      "cell_type": "markdown",
      "source": [
        "**Analysis**-> The dataset contains 6 columns in which the mean_radius, mean_texture, mean_perimeter, mean_area, mean_smoothness will be consider as the independent variables and the diagonsis will be consider as the dependent variable.\n",
        "\n",
        "In the above code, we have taken [:,:5] for x because our independent variables are  mean_radius, mean_texture, mean_perimeter, mean_area, mean_smoothness, which are at index 0 to 4. And we have taken [:,5] for y variable because our dependent variable is at index 5."
      ],
      "metadata": {
        "id": "Utpccd1ZSXlr"
      }
    },
    {
      "cell_type": "markdown",
      "source": [
        "####**Feature Scaling**"
      ],
      "metadata": {
        "id": "g_nhV2U6JoX_"
      }
    },
    {
      "cell_type": "code",
      "source": [
        "from sklearn.preprocessing import StandardScaler\n",
        "st_x=StandardScaler()\n",
        "x_trains=st_x.fit_transform(x_train)\n",
        "#print(x_trains)\n",
        "x_tests=st_x.fit_transform(x_test)\n",
        "#print(x_tests)"
      ],
      "metadata": {
        "id": "-H4DnTo2J4my"
      },
      "execution_count": null,
      "outputs": []
    },
    {
      "cell_type": "markdown",
      "source": [
        "**Analysis**-> In KNN, we have done feature scaling because we want accurate result of predictions. Here we have only scale the independent variable because dependent variable have only 0 and 1 values.Our dataset is well pre-processed after feature scaling"
      ],
      "metadata": {
        "id": "BRpa7SiWU0Au"
      }
    },
    {
      "cell_type": "markdown",
      "source": [
        "####**Fitting KNN Algorithm**"
      ],
      "metadata": {
        "id": "xVSgcyyWK1Am"
      }
    },
    {
      "cell_type": "code",
      "source": [
        "from sklearn.neighbors import KNeighborsClassifier\n",
        "classifier=KNeighborsClassifier(n_neighbors=5,metric='minkowski',p=2)\n",
        "classifier.fit(x_trains,y_train)\n",
        "score=classifier.score(x_trains,y_train)\n",
        "print(round(score,3))"
      ],
      "metadata": {
        "colab": {
          "base_uri": "https://localhost:8080/"
        },
        "id": "iigRBLDSK7jw",
        "outputId": "844ece3a-9d94-4888-dda7-5631a0d7cb30"
      },
      "execution_count": null,
      "outputs": [
        {
          "output_type": "stream",
          "name": "stdout",
          "text": [
            "0.939\n"
          ]
        }
      ]
    },
    {
      "cell_type": "markdown",
      "source": [
        "**Analysis**-> After well preparing our dataset, we have trained the dataset using the training set. For providing training or fitting the model to the training set, we have imported the KNeighborsClassifier class of the sklearn library.\n",
        "\n",
        "After importing the class, we have created a classifier object and use it to fit the model to the KNN Classifier. After that we have checked the score and the score is 0.939 which shows are model is performing well."
      ],
      "metadata": {
        "id": "EmUXnEz_VvEN"
      }
    },
    {
      "cell_type": "markdown",
      "source": [
        "####**Predicting the test result**"
      ],
      "metadata": {
        "id": "adcJKnZNO4VQ"
      }
    },
    {
      "cell_type": "code",
      "source": [
        "y_predict=classifier.predict(x_tests)\n",
        "print(y_predict)"
      ],
      "metadata": {
        "colab": {
          "base_uri": "https://localhost:8080/"
        },
        "id": "w_jriAD-O6Fw",
        "outputId": "aaf83a4a-516a-4eea-89ec-36a6c0f422df"
      },
      "execution_count": null,
      "outputs": [
        {
          "output_type": "stream",
          "name": "stdout",
          "text": [
            "[1 0 1 1 1 1 1 1 1 1 1 0 1 0 0 1 1 0 0 0 1 0 1 1 0 1 1 0 1 0 1 0 1 0 1 0 1\n",
            " 0 1 0 1 1 0 1 1 0 1 1 1 0 0 0 0 1 1 1 1 1 1 0 0 0 1 1 0 1 0 0 0 1 1 0 1 0\n",
            " 0 1 1 1 1 1 0 0 0 1 1 1 1 1 0 0 1 1 0 0 1 1 0 1 1 1 1 1 1 0 0 0 0 1 1 0 1\n",
            " 0 0 1 1 1 1 1 1 1 1 1 0 1 0 1 1 1 1 1 0 1 1 1 1 1 1 1 0 1 1 1 0]\n"
          ]
        }
      ]
    },
    {
      "cell_type": "markdown",
      "source": [
        "**Analysis**-> The above code shows the values predicted by the model by only giving the test values."
      ],
      "metadata": {
        "id": "sKfzNn9CXgFM"
      }
    },
    {
      "cell_type": "markdown",
      "source": [
        "####**Test accuracy of the result(Creation of Confusion Matrix)**"
      ],
      "metadata": {
        "id": "6rJ70jL7PyZ6"
      }
    },
    {
      "cell_type": "code",
      "source": [
        "from sklearn.metrics import confusion_matrix,classification_report\n",
        "print(confusion_matrix(y_test,y_predict))\n",
        "print(classification_report(y_test,y_predict))"
      ],
      "metadata": {
        "colab": {
          "base_uri": "https://localhost:8080/"
        },
        "id": "AQb5buNYPzRC",
        "outputId": "674ceba3-c633-4eac-8d24-35fa33ae223e"
      },
      "execution_count": null,
      "outputs": [
        {
          "output_type": "stream",
          "name": "stdout",
          "text": [
            "[[45  8]\n",
            " [ 7 83]]\n",
            "              precision    recall  f1-score   support\n",
            "\n",
            "           0       0.87      0.85      0.86        53\n",
            "           1       0.91      0.92      0.92        90\n",
            "\n",
            "    accuracy                           0.90       143\n",
            "   macro avg       0.89      0.89      0.89       143\n",
            "weighted avg       0.89      0.90      0.89       143\n",
            "\n"
          ]
        }
      ]
    },
    {
      "cell_type": "markdown",
      "source": [
        "**Analysis**-> In the above cell, the accuracy of the predicted result is calculated by interpreting the confusion matrix. By above output, we can interpret that 45+83= 128 (Correct Output) and 8+7= 15(Incorrect Output).\n",
        "\n",
        "The classification report shows that the model is predicting 1 more as compared to 0."
      ],
      "metadata": {
        "id": "J9CZ2U-GX2YW"
      }
    },
    {
      "cell_type": "markdown",
      "source": [
        "\n",
        "\n",
        "---\n",
        "\n",
        "\n",
        "\n",
        "---\n",
        "\n",
        "\n",
        "\n",
        "---\n",
        "\n"
      ],
      "metadata": {
        "id": "LVeirg4oj0MM"
      }
    },
    {
      "cell_type": "markdown",
      "source": [
        "##**Logistic Regression**"
      ],
      "metadata": {
        "id": "DGpGMCzrgr-N"
      }
    },
    {
      "cell_type": "markdown",
      "source": [
        "Logistic regression is one of the most popular Machine Learning algorithms, which comes under the Supervised Learning technique. It is used for predicting the categorical dependent variable using a given set of independent variables.It predicts the output of a categorical dependent variable. Therefore the outcome must be a categorical or discrete value. It can be either Yes or No, 0 or 1, true or False, etc. but instead of giving the exact value as 0 and 1, it gives the probabilistic values which lie between 0 and 1.It is much similar to the Linear Regression except that how they are used. Linear Regression is used for solving Regression problems, whereas Logistic regression is used for solving the classification problems.\n",
        "\n",
        "In Logistic regression, instead of fitting a regression line, we fit an \"S\" shaped logistic function, which predicts two maximum values (0 or 1).\n",
        "The curve from the logistic function indicates the likelihood of something such as whether the cells are cancerous or not, a mouse is obese or not based on its weight, etc.It is a significant machine learning algorithm because it has the ability to provide probabilities and classify new data using continuous and discrete datasets.It can be used to classify the observations using different types of data and can easily determine the most effective variables used for the classification.\n",
        "\n",
        "<center>\n",
        "\n",
        "![logistic-regression-in-machine-learning.png](data:image/png;base64,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)\n",
        "\n",
        "</center>\n",
        "\n",
        "To implement the Support Vector Machine algorithm, the steps are as follows:\n",
        "\n",
        "1. Loading the dataset\n",
        "2. Data Pre-processing step\n",
        "3. Splitting the dataset into train and test dataset\n",
        "4. Fitting SVM to the training set\n",
        "5. Predicting the test result\n",
        "6. Test accuracy of the result(Creation of Confusion Matrix)"
      ],
      "metadata": {
        "id": "CVqZ9Q_bhAA_"
      }
    },
    {
      "cell_type": "markdown",
      "source": [
        "####**Loading the dataset**"
      ],
      "metadata": {
        "id": "btLeFwpah4pM"
      }
    },
    {
      "cell_type": "code",
      "source": [
        "patient_data=pd.read_csv('/content/drive/MyDrive/datasets/Breast_cancer_data.csv')\n",
        "print(patient_data.head())"
      ],
      "metadata": {
        "colab": {
          "base_uri": "https://localhost:8080/"
        },
        "outputId": "ab6d528e-b6e0-4782-8d2e-cdde8cc302e0",
        "id": "62xhghw1h-1W"
      },
      "execution_count": null,
      "outputs": [
        {
          "output_type": "stream",
          "name": "stdout",
          "text": [
            "   mean_radius  mean_texture  mean_perimeter  mean_area  mean_smoothness  \\\n",
            "0        17.99         10.38          122.80     1001.0          0.11840   \n",
            "1        20.57         17.77          132.90     1326.0          0.08474   \n",
            "2        19.69         21.25          130.00     1203.0          0.10960   \n",
            "3        11.42         20.38           77.58      386.1          0.14250   \n",
            "4        20.29         14.34          135.10     1297.0          0.10030   \n",
            "\n",
            "   diagnosis  \n",
            "0          0  \n",
            "1          0  \n",
            "2          0  \n",
            "3          0  \n",
            "4          0  \n"
          ]
        }
      ]
    },
    {
      "cell_type": "markdown",
      "source": [
        "####**About the dataset**\n",
        "\n",
        "The Data description is as follows:\n",
        "\n",
        "diagnosis: The diagnosis of breast tissues (1 = malignant, 0 = benign) where malignant denotes that the disease is harmful\n",
        "\n",
        "mean_radius: mean of distances from center to points on the perimeter\n",
        "\n",
        "mean_texture: standard deviation of gray-scale values\n",
        "\n",
        "mean_perimeter: mean size of the core tumor\n",
        "\n",
        "mean_area: mean area of the core tumor\n"
      ],
      "metadata": {
        "id": "ywVYLTgiiHO9"
      }
    },
    {
      "cell_type": "markdown",
      "source": [
        "####**Pre-processing the dataset**"
      ],
      "metadata": {
        "id": "DuWF8LcYiN2z"
      }
    },
    {
      "cell_type": "code",
      "source": [
        "print(\"Number of rows and columns in dataset= \",patient_data.shape)\n",
        "print()\n",
        "print(\"Information about dataset: \")\n",
        "print()\n",
        "print(patient_data.info())\n",
        "print()\n",
        "print(\"Null values in the dataset: \")\n",
        "print()\n",
        "print(patient_data.isnull().sum())"
      ],
      "metadata": {
        "colab": {
          "base_uri": "https://localhost:8080/"
        },
        "outputId": "9c2e257d-7ded-4585-b2f0-3928af37d36e",
        "id": "jrXXC_qniYUl"
      },
      "execution_count": null,
      "outputs": [
        {
          "output_type": "stream",
          "name": "stdout",
          "text": [
            "Number of rows and columns in dataset=  (569, 6)\n",
            "\n",
            "Information about dataset: \n",
            "\n",
            "<class 'pandas.core.frame.DataFrame'>\n",
            "RangeIndex: 569 entries, 0 to 568\n",
            "Data columns (total 6 columns):\n",
            " #   Column           Non-Null Count  Dtype  \n",
            "---  ------           --------------  -----  \n",
            " 0   mean_radius      569 non-null    float64\n",
            " 1   mean_texture     569 non-null    float64\n",
            " 2   mean_perimeter   569 non-null    float64\n",
            " 3   mean_area        569 non-null    float64\n",
            " 4   mean_smoothness  569 non-null    float64\n",
            " 5   diagnosis        569 non-null    int64  \n",
            "dtypes: float64(5), int64(1)\n",
            "memory usage: 26.8 KB\n",
            "None\n",
            "\n",
            "Null values in the dataset: \n",
            "\n",
            "mean_radius        0\n",
            "mean_texture       0\n",
            "mean_perimeter     0\n",
            "mean_area          0\n",
            "mean_smoothness    0\n",
            "diagnosis          0\n",
            "dtype: int64\n"
          ]
        }
      ]
    },
    {
      "cell_type": "markdown",
      "source": [
        "**Analysis**-> From the above code, we found that the dataset does not contain any null values and the column names and there datatypes are correct.There are 569 rows and 6 columns in the dataset."
      ],
      "metadata": {
        "id": "D7kPJlZhiepo"
      }
    },
    {
      "cell_type": "markdown",
      "source": [
        "####**Splitting the dataset into train and test set**"
      ],
      "metadata": {
        "id": "Uqn5xGXxikuZ"
      }
    },
    {
      "cell_type": "code",
      "source": [
        "#print(patient_data.head())\n",
        "\n",
        "# Splitting dependent and independent values\n",
        "x=patient_data.iloc[:,:5]\n",
        "#print(x.head())\n",
        "y=patient_data.iloc[:,5]\n",
        "#print(y.head())\n",
        "\n",
        "# Splitting into training and test set\n",
        "\n",
        "from sklearn.model_selection import train_test_split\n",
        "x_train,x_test,y_train,y_test=train_test_split(x,y,test_size=0.25,random_state=0)\n",
        "print(x_train.head())\n",
        "print(x_test.head())\n",
        "print(y_train.head())\n",
        "print(y_test.head())\n"
      ],
      "metadata": {
        "colab": {
          "base_uri": "https://localhost:8080/"
        },
        "outputId": "2752936d-250e-4563-cce6-72cc51655cff",
        "id": "j97m9VeCip90"
      },
      "execution_count": null,
      "outputs": [
        {
          "output_type": "stream",
          "name": "stdout",
          "text": [
            "     mean_radius  mean_texture  mean_perimeter  mean_area  mean_smoothness\n",
            "293        11.85         17.46           75.54      432.7          0.08372\n",
            "332        11.22         19.86           71.94      387.3          0.10540\n",
            "565        20.13         28.25          131.20     1261.0          0.09780\n",
            "278        13.59         17.84           86.24      572.3          0.07948\n",
            "489        16.69         20.20          107.10      857.6          0.07497\n",
            "     mean_radius  mean_texture  mean_perimeter  mean_area  mean_smoothness\n",
            "512        13.40         20.52           88.64      556.7          0.11060\n",
            "457        13.21         25.25           84.10      537.9          0.08791\n",
            "439        14.02         15.66           89.59      606.5          0.07966\n",
            "298        14.26         18.17           91.22      633.1          0.06576\n",
            "37         13.03         18.42           82.61      523.8          0.08983\n",
            "293    1\n",
            "332    1\n",
            "565    0\n",
            "278    1\n",
            "489    0\n",
            "Name: diagnosis, dtype: int64\n",
            "512    0\n",
            "457    1\n",
            "439    1\n",
            "298    1\n",
            "37     1\n",
            "Name: diagnosis, dtype: int64\n"
          ]
        }
      ]
    },
    {
      "cell_type": "markdown",
      "source": [
        "**Analysis**-> The dataset contains 6 columns in which the mean_radius, mean_texture, mean_perimeter, mean_area, mean_smoothness will be consider as the independent variables and the diagonsis will be consider as the dependent variable.\n",
        "\n",
        "In the above code, we have taken [:,:5] for x because our independent variables are  mean_radius, mean_texture, mean_perimeter, mean_area, mean_smoothness, which are at index 0 to 4. And we have taken [:,5] for y variable because our dependent variable is at index 5."
      ],
      "metadata": {
        "id": "5FlhveGyiwSb"
      }
    },
    {
      "cell_type": "markdown",
      "source": [
        "####**Feature Scaling**"
      ],
      "metadata": {
        "id": "CDgjI5KZi3Zq"
      }
    },
    {
      "cell_type": "code",
      "source": [
        "from sklearn.preprocessing import StandardScaler\n",
        "st_x=StandardScaler()\n",
        "x_trains=st_x.fit_transform(x_train)\n",
        "#print(x_trains)\n",
        "x_tests=st_x.fit_transform(x_test)\n",
        "#print(x_tests)"
      ],
      "metadata": {
        "id": "hX46NdXojPDg"
      },
      "execution_count": null,
      "outputs": []
    },
    {
      "cell_type": "markdown",
      "source": [
        "**Analysis**-> In Logistic Regression, we have done feature scaling because we want accurate result of predictions. Here we have only scale the independent variable because dependent variable have only 0 and 1 values.Our dataset is well pre-processed after feature scaling."
      ],
      "metadata": {
        "id": "xitZ3JvgjYZG"
      }
    },
    {
      "cell_type": "markdown",
      "source": [
        "####**Fitting Logistic Regression Algorithm**"
      ],
      "metadata": {
        "id": "O8z9SlgvjevC"
      }
    },
    {
      "cell_type": "code",
      "source": [
        "from sklearn.linear_model import LogisticRegression\n",
        "classifier=LogisticRegression(random_state=0)\n",
        "classifier.fit(x_trains,y_train)\n",
        "score=classifier.score(x_trains,y_train)\n",
        "print('Score= ',round(score,2))"
      ],
      "metadata": {
        "colab": {
          "base_uri": "https://localhost:8080/"
        },
        "id": "311nyJOtjpLn",
        "outputId": "77b013b9-ded7-4076-ab68-82ca129e877e"
      },
      "execution_count": null,
      "outputs": [
        {
          "output_type": "stream",
          "name": "stdout",
          "text": [
            "Score=  0.94\n"
          ]
        }
      ]
    },
    {
      "cell_type": "markdown",
      "source": [
        "**Analysis**-> After well preparing our dataset, we have trained the dataset using the training set. For providing training or fitting the model to the training set, we have imported the Logistic Regression class of the sklearn library.\n",
        "\n",
        "After importing the class, we have created a classifier object and use it to fit the model to the Logistic Regression. After that we have checked the score and the score is 0.94 which shows are model is performing well."
      ],
      "metadata": {
        "id": "LYxdsiJ6lsZD"
      }
    },
    {
      "cell_type": "markdown",
      "source": [
        "####**Predicting the test result**"
      ],
      "metadata": {
        "id": "nzoyHde9mBHo"
      }
    },
    {
      "cell_type": "code",
      "source": [
        "y_predict=classifier.predict(x_tests)\n",
        "print(y_predict)"
      ],
      "metadata": {
        "colab": {
          "base_uri": "https://localhost:8080/"
        },
        "outputId": "90fdd592-3188-4cf6-97bc-7ea60f0c18fa",
        "id": "RZYuRTOzmKe8"
      },
      "execution_count": null,
      "outputs": [
        {
          "output_type": "stream",
          "name": "stdout",
          "text": [
            "[0 1 1 1 1 1 1 1 1 1 1 0 1 1 0 0 1 0 0 0 1 0 1 1 0 1 1 0 1 0 1 0 1 0 1 0 1\n",
            " 0 1 0 0 1 0 1 1 0 1 1 1 0 0 0 0 1 1 1 1 1 1 0 0 0 1 1 0 1 0 0 0 1 1 0 1 1\n",
            " 0 1 1 1 1 1 0 0 0 1 0 1 1 1 0 0 1 1 1 0 1 1 0 1 1 1 1 1 1 0 0 1 0 0 1 0 1\n",
            " 0 0 1 1 1 0 1 1 1 1 1 0 1 0 1 1 1 1 1 0 1 1 1 1 1 1 1 0 1 1 0 0]\n"
          ]
        }
      ]
    },
    {
      "cell_type": "markdown",
      "source": [
        "**Analysis**-> The above code shows the values predicted by the model by only giving the test values."
      ],
      "metadata": {
        "id": "2Vnth2hhmTxs"
      }
    },
    {
      "cell_type": "markdown",
      "source": [
        "####**Test accuracy of the result(Creation of Confusion Matrix)**"
      ],
      "metadata": {
        "id": "Nci5LDObmYK8"
      }
    },
    {
      "cell_type": "code",
      "source": [
        "from sklearn.metrics import confusion_matrix,classification_report\n",
        "print(confusion_matrix(y_test,y_predict))\n",
        "print(classification_report(y_test,y_predict))"
      ],
      "metadata": {
        "colab": {
          "base_uri": "https://localhost:8080/"
        },
        "outputId": "db32ea70-33a8-4de0-9569-c140a200e003",
        "id": "cULmFe0Xmfif"
      },
      "execution_count": null,
      "outputs": [
        {
          "output_type": "stream",
          "name": "stdout",
          "text": [
            "[[48  5]\n",
            " [ 6 84]]\n",
            "              precision    recall  f1-score   support\n",
            "\n",
            "           0       0.89      0.91      0.90        53\n",
            "           1       0.94      0.93      0.94        90\n",
            "\n",
            "    accuracy                           0.92       143\n",
            "   macro avg       0.92      0.92      0.92       143\n",
            "weighted avg       0.92      0.92      0.92       143\n",
            "\n"
          ]
        }
      ]
    },
    {
      "cell_type": "markdown",
      "source": [
        "**Analysis**-> In the above cell, the accuracy of the predicted result is calculated by interpreting the confusion matrix. By above output, we can interpret that 48+84= 132 (Correct Output) and 6+5= 11(Incorrect Output).\n",
        "\n",
        "The classification report shows that the model is predicting 1 more as compared to 0.\n",
        "\n",
        "There are 6+5= 11 incorrect predictions in Logistic Regression, whereas, in KNN Classifeir, there were 15 incorrect predictions. So we can say that the performance of the model is improved by using the logistic regression algorithm."
      ],
      "metadata": {
        "id": "auwaT27Ymp0Z"
      }
    },
    {
      "cell_type": "markdown",
      "source": [
        "\n",
        "\n",
        "---\n",
        "\n",
        "\n",
        "\n",
        "---\n",
        "\n",
        "\n",
        "\n",
        "---\n",
        "\n"
      ],
      "metadata": {
        "id": "MNtXpXHijw_k"
      }
    },
    {
      "cell_type": "markdown",
      "source": [
        "##**Naive Bayes Classifier Algorithm**"
      ],
      "metadata": {
        "id": "JJuunp4C-k7u"
      }
    },
    {
      "cell_type": "markdown",
      "source": [
        "Naïve Bayes algorithm is a supervised learning algorithm, which is based on Bayes theorem and used for solving classification problems.\n",
        "It is mainly used in text classification that includes a high-dimensional training dataset. Naïve Bayes Classifier is one of the simple and most effective Classification algorithms which helps in building the fast machine learning models that can make quick predictions. It is a probabilistic classifier, which means it predicts on the basis of the probability of an object.\n",
        "\n",
        "Some popular examples of Naïve Bayes Algorithm are spam filtration, Sentimental analysis, and classifying articles.\n",
        "\n",
        "####**Why it is called so??**\n",
        "The Naïve Bayes algorithm is comprised of two words Naïve and Bayes, Which can be described as:\n",
        "* Naïve: It is called Naïve because it assumes that the occurrence of\n",
        "  a certain feature is independent of the occurrence of other features. Such as if the fruit is identified on the bases of color, shape, and taste, then red, spherical, and sweet fruit is recognized as an apple. Hence each feature individually contributes to identify that it is an apple without depending on each other.\n",
        "* Bayes: It is called Bayes because it depends on the principle of\n",
        "  Bayes' Theorem.\n",
        "\n",
        "\n",
        "####**Bayes Theorem**\n",
        "Bayes' theorem is also known as Bayes' Rule or Bayes' law, which is used to determine the probability of a hypothesis with prior knowledge. It depends on the conditional probability.\n",
        "\n",
        "The formula is as follows:\n",
        "\n",
        "$$P(A|B) = \\frac{P(B|A)P(A)}{P(B)}$$\n",
        "\n",
        "**Where**,\n",
        "\n",
        "**P(A|B) is Posterior probability**: Probability of hypothesis A on the observed event B.\n",
        "\n",
        "**P(B|A) is Likelihood probability**: Probability of the evidence given that the probability of a hypothesis is true.\n",
        "\n",
        "**P(A) is Prior Probability**: Probability of hypothesis before observing the evidence.\n",
        "\n",
        "**P(B) is Marginal Probability**: Probability of Evidence."
      ],
      "metadata": {
        "id": "pzNcSIWr_d13"
      }
    },
    {
      "cell_type": "markdown",
      "source": [
        "####**Advantages of Naïve Bayes Classifier:**\n",
        "* Naïve Bayes is one of the fast and easy ML algorithms to predict a\n",
        "  class of datasets.\n",
        "* It can be used for Binary as well as Multi-class Classifications.\n",
        "* It performs well in Multi-class predictions as compared to the\n",
        "  other Algorithms.\n",
        "* It is the most popular choice for text classification problems.\n",
        "\n",
        "\n",
        "####**Disadvantages of Naïve Bayes Classifier:**\n",
        "* Naive Bayes assumes that all features are independent or unrelated,\n",
        "  so it cannot learn the relationship between features."
      ],
      "metadata": {
        "id": "e4htrmmzCXSI"
      }
    },
    {
      "cell_type": "markdown",
      "source": [
        "####**Types of Naïve Bayes Model:**\n",
        "There are three types of Naive Bayes Model, which are given below:\n",
        "\n",
        "* **Gaussian:** The Gaussian model assumes that features follow a\n",
        "  normal distribution. This means if predictors take continuous values instead of discrete, then the model assumes that these values are sampled from the Gaussian distribution.\n",
        "\n",
        "* **Multinomial:** The Multinomial Naïve Bayes classifier is used\n",
        "   when the data is multinomial distributed. It is primarily used for document classification problems, it means a particular document belongs to which category such as Sports, Politics, education, etc.\n",
        "The classifier uses the frequency of words for the predictors.\n",
        "\n",
        "* **Bernoulli:** The Bernoulli classifier works similar to the\n",
        "  Multinomial classifier, but the predictor variables are the independent Booleans variables. Such as if a particular word is present or not in a document. This model is also famous for document classification tasks."
      ],
      "metadata": {
        "id": "3kxvMHeNENEF"
      }
    },
    {
      "cell_type": "markdown",
      "source": [
        "To implement the Naive Bayes Classifier Algorithm we will be using the above used breast cancer dataset.\n",
        "\n",
        "So we will be  dirctly doing the spliiting of the dataset."
      ],
      "metadata": {
        "id": "YnN0owOIFd30"
      }
    },
    {
      "cell_type": "markdown",
      "source": [
        "####**Splitting the dataset into train and test set**"
      ],
      "metadata": {
        "id": "Ck0hyIDBGB_Q"
      }
    },
    {
      "cell_type": "code",
      "source": [
        "#print(patient_data.head())\n",
        "\n",
        "# Splitting dependent and independent values\n",
        "X=patient_data.iloc[:,:5]\n",
        "#print(x.head())\n",
        "Y=patient_data.iloc[:,5]\n",
        "#print(y.head())\n",
        "\n",
        "# Splitting into training and test set\n",
        "\n",
        "from sklearn.model_selection import train_test_split\n",
        "X_train,X_test,Y_train,Y_test=train_test_split(X,Y,test_size=0.25,random_state=0)\n",
        "print(X_train.head())\n",
        "print(X_test.head())\n",
        "print(Y_train.head())\n",
        "print(Y_test.head())\n"
      ],
      "metadata": {
        "colab": {
          "base_uri": "https://localhost:8080/"
        },
        "outputId": "c0aeb379-62cb-4a09-d2dd-fbb53a3bc5dc",
        "id": "635uymIzGHhR"
      },
      "execution_count": null,
      "outputs": [
        {
          "output_type": "stream",
          "name": "stdout",
          "text": [
            "     mean_radius  mean_texture  mean_perimeter  mean_area  mean_smoothness\n",
            "293        11.85         17.46           75.54      432.7          0.08372\n",
            "332        11.22         19.86           71.94      387.3          0.10540\n",
            "565        20.13         28.25          131.20     1261.0          0.09780\n",
            "278        13.59         17.84           86.24      572.3          0.07948\n",
            "489        16.69         20.20          107.10      857.6          0.07497\n",
            "     mean_radius  mean_texture  mean_perimeter  mean_area  mean_smoothness\n",
            "512        13.40         20.52           88.64      556.7          0.11060\n",
            "457        13.21         25.25           84.10      537.9          0.08791\n",
            "439        14.02         15.66           89.59      606.5          0.07966\n",
            "298        14.26         18.17           91.22      633.1          0.06576\n",
            "37         13.03         18.42           82.61      523.8          0.08983\n",
            "293    1\n",
            "332    1\n",
            "565    0\n",
            "278    1\n",
            "489    0\n",
            "Name: diagnosis, dtype: int64\n",
            "512    0\n",
            "457    1\n",
            "439    1\n",
            "298    1\n",
            "37     1\n",
            "Name: diagnosis, dtype: int64\n"
          ]
        }
      ]
    },
    {
      "cell_type": "markdown",
      "source": [
        "**Analysis**-> The dataset contains 6 columns in which the mean_radius, mean_texture, mean_perimeter, mean_area, mean_smoothness will be consider as the independent variables and the diagonsis will be consider as the dependent variable.\n",
        "\n",
        "In the above code, we have taken [:,:5] for X because our independent variables are  mean_radius, mean_texture, mean_perimeter, mean_area, mean_smoothness, which are at index 0 to 4. And we have taken [:,5] for Y variable because our dependent variable is at index 5."
      ],
      "metadata": {
        "id": "yBtvQb-NJuY4"
      }
    },
    {
      "cell_type": "markdown",
      "source": [
        "####**Feature Scaling**"
      ],
      "metadata": {
        "id": "IRcO_b40GZbb"
      }
    },
    {
      "cell_type": "code",
      "source": [
        "from sklearn.preprocessing import StandardScaler\n",
        "sc=StandardScaler()\n",
        "X_trains=sc.fit_transform(X_train)\n",
        "#print(X_trains)\n",
        "\n",
        "X_tests=sc.fit_transform(X_test)\n",
        "#print(X_tests)"
      ],
      "metadata": {
        "id": "LJievr8_Ggya"
      },
      "execution_count": null,
      "outputs": []
    },
    {
      "cell_type": "markdown",
      "source": [
        "**Analysis**-> In Naive Bayes Classifier Algorithm, we have done feature scaling because we want accurate result of predictions. Here we have only scale the independent variable because dependent variable have only 0 and 1 values.Our dataset is well pre-processed after feature scaling."
      ],
      "metadata": {
        "id": "LulvXkPoJzTH"
      }
    },
    {
      "cell_type": "markdown",
      "source": [
        "####**Fitting Naive Bayes to the Training Set**"
      ],
      "metadata": {
        "id": "jfBWbcDVI6Vh"
      }
    },
    {
      "cell_type": "code",
      "source": [
        "from sklearn.naive_bayes import GaussianNB\n",
        "classifier=GaussianNB()\n",
        "classifier.fit(X_trains,Y_train)\n",
        "score=classifier.score(X_trains,Y_train)\n",
        "print('Score= ',round(score,2))"
      ],
      "metadata": {
        "colab": {
          "base_uri": "https://localhost:8080/"
        },
        "id": "W7MLsSLXI9nX",
        "outputId": "3ed7fb67-ec25-471b-b4ac-28571b92e0e4"
      },
      "execution_count": null,
      "outputs": [
        {
          "output_type": "stream",
          "name": "stdout",
          "text": [
            "Score=  0.9\n"
          ]
        }
      ]
    },
    {
      "cell_type": "markdown",
      "source": [
        "**Analysis**-> After well preparing our dataset, we have trained the dataset using the training set. For providing training or fitting the model to the training set, we have used the GaussianNB classifier to fit it to the training dataset.\n",
        "\n",
        "After importing the class, we have created a classifier object and use it to fit the model. After that we have checked the score and the score is 0.9 which shows are model is performing well."
      ],
      "metadata": {
        "id": "Dnrbd6HSJ4VP"
      }
    },
    {
      "cell_type": "markdown",
      "source": [
        "####**Predicting the test result**"
      ],
      "metadata": {
        "id": "NjxmMp57Ki8c"
      }
    },
    {
      "cell_type": "code",
      "source": [
        "Y_predict=classifier.predict(X_tests)\n",
        "print(Y_predict)"
      ],
      "metadata": {
        "colab": {
          "base_uri": "https://localhost:8080/"
        },
        "outputId": "2e7a7515-76b9-4102-a466-35385390daef",
        "id": "qgjqH64YKpS3"
      },
      "execution_count": null,
      "outputs": [
        {
          "output_type": "stream",
          "name": "stdout",
          "text": [
            "[1 1 1 1 1 1 1 1 1 1 1 1 1 0 1 0 1 0 0 0 1 0 1 1 0 1 1 1 1 0 1 0 1 0 1 1 1\n",
            " 0 1 0 0 1 0 1 1 0 1 1 1 0 0 0 0 1 1 1 1 1 1 0 1 0 1 1 0 1 0 0 0 1 1 0 1 1\n",
            " 0 1 1 1 1 1 0 0 0 1 0 1 1 1 0 0 1 0 0 0 1 1 0 1 1 1 1 1 1 1 0 1 0 1 0 0 1\n",
            " 0 0 0 1 1 0 1 1 1 1 1 1 1 0 1 1 1 1 1 0 1 1 1 1 1 1 0 0 1 1 1 0]\n"
          ]
        }
      ]
    },
    {
      "cell_type": "markdown",
      "source": [
        "####**Test accuracy of the result(Creation of Confusion Matrix)**"
      ],
      "metadata": {
        "id": "I11UBCX6K3LF"
      }
    },
    {
      "cell_type": "code",
      "source": [
        "from sklearn.metrics import confusion_matrix,classification_report\n",
        "print(confusion_matrix(Y_test,Y_predict))\n",
        "print(classification_report(Y_test,Y_predict))"
      ],
      "metadata": {
        "colab": {
          "base_uri": "https://localhost:8080/"
        },
        "outputId": "bcc86dc5-03e6-4d21-cacc-254e6b942597",
        "id": "q4yTBIwfK7Ys"
      },
      "execution_count": null,
      "outputs": [
        {
          "output_type": "stream",
          "name": "stdout",
          "text": [
            "[[46  7]\n",
            " [ 4 86]]\n",
            "              precision    recall  f1-score   support\n",
            "\n",
            "           0       0.92      0.87      0.89        53\n",
            "           1       0.92      0.96      0.94        90\n",
            "\n",
            "    accuracy                           0.92       143\n",
            "   macro avg       0.92      0.91      0.92       143\n",
            "weighted avg       0.92      0.92      0.92       143\n",
            "\n"
          ]
        }
      ]
    },
    {
      "cell_type": "markdown",
      "source": [
        "**Analysis**-> In the above cell, the accuracy of the predicted result is calculated by interpreting the confusion matrix. By above output, we can interpret that 46+86= 132 (Correct Output) and 7+4= 11(Incorrect Output).\n",
        "\n",
        "The classification report shows that the model is predicting 1 more as compared to 0.\n",
        "\n",
        "There are 6+5= 11 incorrect predictions in Logistic Regression, whereas, in KNN Classifeir, there were 15 incorrect predictions. So we can say that the performance of the model is improved by using the naive bayes algorithm but the logistic regression and naive bayes have same number of correct and incorrect values."
      ],
      "metadata": {
        "id": "hgU74RjaLNS4"
      }
    },
    {
      "cell_type": "markdown",
      "source": [
        "\n",
        "\n",
        "---\n",
        "\n",
        "\n",
        "\n",
        "---\n",
        "\n",
        "\n",
        "\n",
        "---\n",
        "\n"
      ],
      "metadata": {
        "id": "VX2E1p9BLt0i"
      }
    }
  ]
}